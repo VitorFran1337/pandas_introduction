{
 "cells": [
  {
   "cell_type": "code",
   "execution_count": null,
   "metadata": {},
   "outputs": [],
   "source": [
    "#https://www.kaggle.com/datasets/shubh932/amazon-us-full-categories-list?resource=download"
   ]
  },
  {
   "cell_type": "code",
   "execution_count": 8,
   "metadata": {},
   "outputs": [],
   "source": [
    "import pandas as pd\n",
    "import matplotlib.pyplot as plt\n",
    "plt.style.use(\"ggplot\")"
   ]
  },
  {
   "cell_type": "code",
   "execution_count": 18,
   "metadata": {},
   "outputs": [
    {
     "data": {
      "text/html": [
       "<div>\n",
       "<style scoped>\n",
       "    .dataframe tbody tr th:only-of-type {\n",
       "        vertical-align: middle;\n",
       "    }\n",
       "\n",
       "    .dataframe tbody tr th {\n",
       "        vertical-align: top;\n",
       "    }\n",
       "\n",
       "    .dataframe thead th {\n",
       "        text-align: right;\n",
       "    }\n",
       "</style>\n",
       "<table border=\"1\" class=\"dataframe\">\n",
       "  <thead>\n",
       "    <tr style=\"text-align: right;\">\n",
       "      <th></th>\n",
       "      <th>id do produto</th>\n",
       "      <th>id da categoria</th>\n",
       "      <th>Nome do Produto/Categoria</th>\n",
       "      <th>currentLevel</th>\n",
       "      <th>productsCount</th>\n",
       "    </tr>\n",
       "  </thead>\n",
       "  <tbody>\n",
       "    <tr>\n",
       "      <th>14280</th>\n",
       "      <td>18580588011</td>\n",
       "      <td>18580587011</td>\n",
       "      <td>Climate Change</td>\n",
       "      <td>4</td>\n",
       "      <td>414</td>\n",
       "    </tr>\n",
       "    <tr>\n",
       "      <th>14281</th>\n",
       "      <td>18580589011</td>\n",
       "      <td>18580587011</td>\n",
       "      <td>Environmental Conservation</td>\n",
       "      <td>4</td>\n",
       "      <td>763</td>\n",
       "    </tr>\n",
       "    <tr>\n",
       "      <th>14282</th>\n",
       "      <td>18580591011</td>\n",
       "      <td>18580587011</td>\n",
       "      <td>Weather</td>\n",
       "      <td>4</td>\n",
       "      <td>74</td>\n",
       "    </tr>\n",
       "    <tr>\n",
       "      <th>14283</th>\n",
       "      <td>18580596011</td>\n",
       "      <td>18580595011</td>\n",
       "      <td>History of Science</td>\n",
       "      <td>4</td>\n",
       "      <td>726</td>\n",
       "    </tr>\n",
       "    <tr>\n",
       "      <th>14284</th>\n",
       "      <td>18580597011</td>\n",
       "      <td>18580595011</td>\n",
       "      <td>Philosophy &amp; Science</td>\n",
       "      <td>4</td>\n",
       "      <td>490</td>\n",
       "    </tr>\n",
       "  </tbody>\n",
       "</table>\n",
       "</div>"
      ],
      "text/plain": [
       "       id do produto  id da categoria   Nome do Produto/Categoria  \\\n",
       "14280    18580588011      18580587011              Climate Change   \n",
       "14281    18580589011      18580587011  Environmental Conservation   \n",
       "14282    18580591011      18580587011                     Weather   \n",
       "14283    18580596011      18580595011          History of Science   \n",
       "14284    18580597011      18580595011        Philosophy & Science   \n",
       "\n",
       "       currentLevel  productsCount  \n",
       "14280             4            414  \n",
       "14281             4            763  \n",
       "14282             4             74  \n",
       "14283             4            726  \n",
       "14284             4            490  "
      ]
     },
     "execution_count": 18,
     "metadata": {},
     "output_type": "execute_result"
    }
   ],
   "source": [
    "df1 = pd.read_csv(\"archive/level0.csv\")\n",
    "df2 = pd.read_csv(\"archive/level1.csv\")\n",
    "df3 = pd.read_csv(\"archive/level2.csv\")\n",
    "df4 = pd.read_csv(\"archive/level3.csv\")\n",
    "df5 = pd.read_csv(\"archive/level4.csv\")\n",
    "df = pd.concat([df1,df2,df3,df4,df5])\n",
    "df = df.rename(columns={\"id\":\"id do produto\",\"parent_id\":\"id da categoria\",\"contextFreeName\":\"Nome do Produto/Categoria\", \"productsCounts\":\"Quantidade\"})"
   ]
  },
  {
   "cell_type": "code",
   "execution_count": null,
   "metadata": {},
   "outputs": [],
   "source": []
  }
 ],
 "metadata": {
  "kernelspec": {
   "display_name": "Python 3.9.7 64-bit",
   "language": "python",
   "name": "python3"
  },
  "language_info": {
   "codemirror_mode": {
    "name": "ipython",
    "version": 3
   },
   "file_extension": ".py",
   "mimetype": "text/x-python",
   "name": "python",
   "nbconvert_exporter": "python",
   "pygments_lexer": "ipython3",
   "version": "3.9.7"
  },
  "orig_nbformat": 4,
  "vscode": {
   "interpreter": {
    "hash": "1e2c152b2f36daaa756114846e36a66f30d6cc14761fec599af983c58b0aad16"
   }
  }
 },
 "nbformat": 4,
 "nbformat_minor": 2
}
